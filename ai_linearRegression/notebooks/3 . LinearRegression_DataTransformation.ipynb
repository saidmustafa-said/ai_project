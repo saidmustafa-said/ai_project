{
 "cells": [
  {
   "cell_type": "markdown",
   "metadata": {
    "colab_type": "text",
    "id": "njq8PR9Yg-HM"
   },
   "source": [
    "Basic Imports"
   ]
  },
  {
   "cell_type": "code",
   "execution_count": 3,
   "metadata": {
    "colab": {
     "base_uri": "https://localhost:8080/",
     "height": 72
    },
    "colab_type": "code",
    "executionInfo": {
     "elapsed": 1529,
     "status": "ok",
     "timestamp": 1594917124620,
     "user": {
      "displayName": "Abhilash Chintada",
      "photoUrl": "https://lh3.googleusercontent.com/a-/AOh14GhlwwwMJr16CgjmRFWk833xZEy2OfpaFZDIqM84=s64",
      "userId": "00311744807213723199"
     },
     "user_tz": -330
    },
    "id": "W3ssws2HDluI",
    "outputId": "2debce79-e6f4-4c65-b64f-241ac53f7ae5"
   },
   "outputs": [],
   "source": [
    "import pandas as pd \n",
    "import numpy as np\n",
    "import matplotlib.pyplot as plt\n",
    "import seaborn as sns"
   ]
  },
  {
   "cell_type": "markdown",
   "metadata": {
    "colab_type": "text",
    "id": "ARe5ODbShBtX"
   },
   "source": [
    "Load the dataset"
   ]
  },
  {
   "cell_type": "code",
   "execution_count": 4,
   "metadata": {
    "colab": {
     "base_uri": "https://localhost:8080/",
     "height": 202
    },
    "colab_type": "code",
    "executionInfo": {
     "elapsed": 1937,
     "status": "ok",
     "timestamp": 1594917125056,
     "user": {
      "displayName": "Abhilash Chintada",
      "photoUrl": "https://lh3.googleusercontent.com/a-/AOh14GhlwwwMJr16CgjmRFWk833xZEy2OfpaFZDIqM84=s64",
      "userId": "00311744807213723199"
     },
     "user_tz": -330
    },
    "id": "nqpLb--Jgjm7",
    "outputId": "3d7f3074-9329-4739-e868-5ae1b44e2a2f"
   },
   "outputs": [
    {
     "data": {
      "text/html": [
       "<div>\n",
       "<style scoped>\n",
       "    .dataframe tbody tr th:only-of-type {\n",
       "        vertical-align: middle;\n",
       "    }\n",
       "\n",
       "    .dataframe tbody tr th {\n",
       "        vertical-align: top;\n",
       "    }\n",
       "\n",
       "    .dataframe thead th {\n",
       "        text-align: right;\n",
       "    }\n",
       "</style>\n",
       "<table border=\"1\" class=\"dataframe\">\n",
       "  <thead>\n",
       "    <tr style=\"text-align: right;\">\n",
       "      <th></th>\n",
       "      <th>age</th>\n",
       "      <th>sex</th>\n",
       "      <th>bmi</th>\n",
       "      <th>children</th>\n",
       "      <th>smoker</th>\n",
       "      <th>region</th>\n",
       "      <th>expenses</th>\n",
       "    </tr>\n",
       "  </thead>\n",
       "  <tbody>\n",
       "    <tr>\n",
       "      <th>0</th>\n",
       "      <td>19</td>\n",
       "      <td>female</td>\n",
       "      <td>27.9</td>\n",
       "      <td>0</td>\n",
       "      <td>yes</td>\n",
       "      <td>southwest</td>\n",
       "      <td>16884.92</td>\n",
       "    </tr>\n",
       "    <tr>\n",
       "      <th>1</th>\n",
       "      <td>18</td>\n",
       "      <td>male</td>\n",
       "      <td>33.8</td>\n",
       "      <td>1</td>\n",
       "      <td>no</td>\n",
       "      <td>southeast</td>\n",
       "      <td>1725.55</td>\n",
       "    </tr>\n",
       "    <tr>\n",
       "      <th>2</th>\n",
       "      <td>28</td>\n",
       "      <td>male</td>\n",
       "      <td>33.0</td>\n",
       "      <td>3</td>\n",
       "      <td>no</td>\n",
       "      <td>southeast</td>\n",
       "      <td>4449.46</td>\n",
       "    </tr>\n",
       "    <tr>\n",
       "      <th>3</th>\n",
       "      <td>33</td>\n",
       "      <td>male</td>\n",
       "      <td>22.7</td>\n",
       "      <td>0</td>\n",
       "      <td>no</td>\n",
       "      <td>northwest</td>\n",
       "      <td>21984.47</td>\n",
       "    </tr>\n",
       "    <tr>\n",
       "      <th>4</th>\n",
       "      <td>32</td>\n",
       "      <td>male</td>\n",
       "      <td>28.9</td>\n",
       "      <td>0</td>\n",
       "      <td>no</td>\n",
       "      <td>northwest</td>\n",
       "      <td>3866.86</td>\n",
       "    </tr>\n",
       "  </tbody>\n",
       "</table>\n",
       "</div>"
      ],
      "text/plain": [
       "   age     sex   bmi  children smoker     region  expenses\n",
       "0   19  female  27.9         0    yes  southwest  16884.92\n",
       "1   18    male  33.8         1     no  southeast   1725.55\n",
       "2   28    male  33.0         3     no  southeast   4449.46\n",
       "3   33    male  22.7         0     no  northwest  21984.47\n",
       "4   32    male  28.9         0     no  northwest   3866.86"
      ]
     },
     "execution_count": 4,
     "metadata": {},
     "output_type": "execute_result"
    }
   ],
   "source": [
    "data = pd.read_csv(\"../data/raw/insurance.csv\")\n",
    "\n",
    "\n",
    "\n",
    "\n",
    "data.head()"
   ]
  },
  {
   "cell_type": "code",
   "execution_count": 5,
   "metadata": {
    "colab": {
     "base_uri": "https://localhost:8080/",
     "height": 35
    },
    "colab_type": "code",
    "executionInfo": {
     "elapsed": 1919,
     "status": "ok",
     "timestamp": 1594917125058,
     "user": {
      "displayName": "Abhilash Chintada",
      "photoUrl": "https://lh3.googleusercontent.com/a-/AOh14GhlwwwMJr16CgjmRFWk833xZEy2OfpaFZDIqM84=s64",
      "userId": "00311744807213723199"
     },
     "user_tz": -330
    },
    "id": "vqAYN0MNGnuH",
    "outputId": "e4b25f98-bd80-48ea-9a49-152c3e1c856f"
   },
   "outputs": [
    {
     "data": {
      "text/plain": [
       "(1338, 7)"
      ]
     },
     "execution_count": 5,
     "metadata": {},
     "output_type": "execute_result"
    }
   ],
   "source": [
    "data.shape"
   ]
  },
  {
   "cell_type": "code",
   "execution_count": 6,
   "metadata": {
    "colab": {
     "base_uri": "https://localhost:8080/",
     "height": 260
    },
    "colab_type": "code",
    "executionInfo": {
     "elapsed": 1900,
     "status": "ok",
     "timestamp": 1594917125059,
     "user": {
      "displayName": "Abhilash Chintada",
      "photoUrl": "https://lh3.googleusercontent.com/a-/AOh14GhlwwwMJr16CgjmRFWk833xZEy2OfpaFZDIqM84=s64",
      "userId": "00311744807213723199"
     },
     "user_tz": -330
    },
    "id": "cnHvt_CkGtAJ",
    "outputId": "7932f81a-0259-4c7c-c61e-63412f242a7c"
   },
   "outputs": [
    {
     "name": "stdout",
     "output_type": "stream",
     "text": [
      "<class 'pandas.core.frame.DataFrame'>\n",
      "RangeIndex: 1338 entries, 0 to 1337\n",
      "Data columns (total 7 columns):\n",
      " #   Column    Non-Null Count  Dtype  \n",
      "---  ------    --------------  -----  \n",
      " 0   age       1338 non-null   int64  \n",
      " 1   sex       1338 non-null   object \n",
      " 2   bmi       1338 non-null   float64\n",
      " 3   children  1338 non-null   int64  \n",
      " 4   smoker    1338 non-null   object \n",
      " 5   region    1338 non-null   object \n",
      " 6   expenses  1338 non-null   float64\n",
      "dtypes: float64(2), int64(2), object(3)\n",
      "memory usage: 73.3+ KB\n"
     ]
    }
   ],
   "source": [
    "data.info()"
   ]
  },
  {
   "cell_type": "markdown",
   "metadata": {
    "colab_type": "text",
    "id": "ehbtrN7Mh374"
   },
   "source": [
    "Label Encode Object Types"
   ]
  },
  {
   "cell_type": "code",
   "execution_count": 7,
   "metadata": {
    "colab": {
     "base_uri": "https://localhost:8080/",
     "height": 312
    },
    "colab_type": "code",
    "executionInfo": {
     "elapsed": 2598,
     "status": "ok",
     "timestamp": 1594917125805,
     "user": {
      "displayName": "Abhilash Chintada",
      "photoUrl": "https://lh3.googleusercontent.com/a-/AOh14GhlwwwMJr16CgjmRFWk833xZEy2OfpaFZDIqM84=s64",
      "userId": "00311744807213723199"
     },
     "user_tz": -330
    },
    "id": "dpezzhlEiJlU",
    "outputId": "610912a7-5e57-417e-8890-580f3d85120c"
   },
   "outputs": [
    {
     "name": "stdout",
     "output_type": "stream",
     "text": [
      "<======== sex ===========>\n",
      "sex\n",
      "male      676\n",
      "female    662\n",
      "Name: count, dtype: int64\n",
      "\n",
      "<======== smoker ===========>\n",
      "smoker\n",
      "no     1064\n",
      "yes     274\n",
      "Name: count, dtype: int64\n",
      "\n",
      "<======== region ===========>\n",
      "region\n",
      "southeast    364\n",
      "southwest    325\n",
      "northwest    325\n",
      "northeast    324\n",
      "Name: count, dtype: int64\n",
      "\n"
     ]
    }
   ],
   "source": [
    "d_types = dict(data.dtypes)\n",
    "for name , type_ in d_types.items():\n",
    "    if str(type_) == 'object':\n",
    "        print(f\"<======== {name} ===========>\")\n",
    "        print(data[name].value_counts())\n",
    "        print()"
   ]
  },
  {
   "cell_type": "code",
   "execution_count": 8,
   "metadata": {
    "colab": {},
    "colab_type": "code",
    "executionInfo": {
     "elapsed": 2592,
     "status": "ok",
     "timestamp": 1594917125808,
     "user": {
      "displayName": "Abhilash Chintada",
      "photoUrl": "https://lh3.googleusercontent.com/a-/AOh14GhlwwwMJr16CgjmRFWk833xZEy2OfpaFZDIqM84=s64",
      "userId": "00311744807213723199"
     },
     "user_tz": -330
    },
    "id": "kdDi3cr7iE3z"
   },
   "outputs": [],
   "source": [
    "from sklearn.preprocessing import LabelEncoder\n",
    "\n",
    "for name , type_ in d_types.items():\n",
    "    if str(type_) == 'object':\n",
    "        Le = LabelEncoder()\n",
    "        data[name] = Le.fit_transform(data[name])"
   ]
  },
  {
   "cell_type": "markdown",
   "metadata": {
    "colab_type": "text",
    "id": "Epf1N6vnkQwU"
   },
   "source": [
    "Check info after Label Encoding"
   ]
  },
  {
   "cell_type": "code",
   "execution_count": 9,
   "metadata": {
    "colab": {
     "base_uri": "https://localhost:8080/",
     "height": 260
    },
    "colab_type": "code",
    "executionInfo": {
     "elapsed": 2574,
     "status": "ok",
     "timestamp": 1594917125810,
     "user": {
      "displayName": "Abhilash Chintada",
      "photoUrl": "https://lh3.googleusercontent.com/a-/AOh14GhlwwwMJr16CgjmRFWk833xZEy2OfpaFZDIqM84=s64",
      "userId": "00311744807213723199"
     },
     "user_tz": -330
    },
    "id": "G0i3hWXPkUP0",
    "outputId": "fc6a3c9d-0e6f-4c36-9e75-d4151d363a61"
   },
   "outputs": [
    {
     "name": "stdout",
     "output_type": "stream",
     "text": [
      "<class 'pandas.core.frame.DataFrame'>\n",
      "RangeIndex: 1338 entries, 0 to 1337\n",
      "Data columns (total 7 columns):\n",
      " #   Column    Non-Null Count  Dtype  \n",
      "---  ------    --------------  -----  \n",
      " 0   age       1338 non-null   int64  \n",
      " 1   sex       1338 non-null   int32  \n",
      " 2   bmi       1338 non-null   float64\n",
      " 3   children  1338 non-null   int64  \n",
      " 4   smoker    1338 non-null   int32  \n",
      " 5   region    1338 non-null   int32  \n",
      " 6   expenses  1338 non-null   float64\n",
      "dtypes: float64(2), int32(3), int64(2)\n",
      "memory usage: 57.6 KB\n"
     ]
    }
   ],
   "source": [
    "data.info()"
   ]
  },
  {
   "cell_type": "markdown",
   "metadata": {
    "colab_type": "text",
    "id": "CcQpYqQThEA6"
   },
   "source": [
    "Check the feature correlations"
   ]
  },
  {
   "cell_type": "code",
   "execution_count": 10,
   "metadata": {
    "colab": {
     "base_uri": "https://localhost:8080/",
     "height": 613
    },
    "colab_type": "code",
    "executionInfo": {
     "elapsed": 2623,
     "status": "ok",
     "timestamp": 1594917125803,
     "user": {
      "displayName": "Abhilash Chintada",
      "photoUrl": "https://lh3.googleusercontent.com/a-/AOh14GhlwwwMJr16CgjmRFWk833xZEy2OfpaFZDIqM84=s64",
      "userId": "00311744807213723199"
     },
     "user_tz": -330
    },
    "id": "jDGsg7QYIyjQ",
    "outputId": "98277b08-6572-4b34-8f21-ed7e4ebac8b5"
   },
   "outputs": [
    {
     "data": {
      "text/plain": [
       "<Axes: >"
      ]
     },
     "execution_count": 10,
     "metadata": {},
     "output_type": "execute_result"
    },
    {
     "data": {
      "image/png": "[encoded data removed]",
      "text/plain": [
       "<Figure size 1000x1000 with 2 Axes>"
      ]
     },
     "metadata": {},
     "output_type": "display_data"
    }
   ],
   "source": [
    "fig, ax = plt.subplots(figsize=(10,10))\n",
    "\n",
    "corr = data.corr()\n",
    "sns.heatmap(corr , annot = True , ax=ax)"
   ]
  },
  {
   "cell_type": "markdown",
   "metadata": {
    "colab_type": "text",
    "id": "krC9zYSxmIBu"
   },
   "source": [
    "One hot Encoding "
   ]
  },
  {
   "cell_type": "code",
   "execution_count": 11,
   "metadata": {
    "colab": {
     "base_uri": "https://localhost:8080/",
     "height": 202
    },
    "colab_type": "code",
    "executionInfo": {
     "elapsed": 2555,
     "status": "ok",
     "timestamp": 1594917125815,
     "user": {
      "displayName": "Abhilash Chintada",
      "photoUrl": "https://lh3.googleusercontent.com/a-/AOh14GhlwwwMJr16CgjmRFWk833xZEy2OfpaFZDIqM84=s64",
      "userId": "00311744807213723199"
     },
     "user_tz": -330
    },
    "id": "eCyVK4UOmJ9-",
    "outputId": "5c7bd5af-b1dd-4a08-c8bd-e2ebb9a6da79"
   },
   "outputs": [
    {
     "data": {
      "text/html": [
       "<div>\n",
       "<style scoped>\n",
       "    .dataframe tbody tr th:only-of-type {\n",
       "        vertical-align: middle;\n",
       "    }\n",
       "\n",
       "    .dataframe tbody tr th {\n",
       "        vertical-align: top;\n",
       "    }\n",
       "\n",
       "    .dataframe thead th {\n",
       "        text-align: right;\n",
       "    }\n",
       "</style>\n",
       "<table border=\"1\" class=\"dataframe\">\n",
       "  <thead>\n",
       "    <tr style=\"text-align: right;\">\n",
       "      <th></th>\n",
       "      <th>age</th>\n",
       "      <th>sex</th>\n",
       "      <th>bmi</th>\n",
       "      <th>children</th>\n",
       "      <th>smoker</th>\n",
       "      <th>expenses</th>\n",
       "      <th>region_2</th>\n",
       "      <th>region_3</th>\n",
       "      <th>region_1</th>\n",
       "      <th>region_0</th>\n",
       "    </tr>\n",
       "  </thead>\n",
       "  <tbody>\n",
       "    <tr>\n",
       "      <th>0</th>\n",
       "      <td>19</td>\n",
       "      <td>0</td>\n",
       "      <td>27.9</td>\n",
       "      <td>0</td>\n",
       "      <td>1</td>\n",
       "      <td>16884.92</td>\n",
       "      <td>0.0</td>\n",
       "      <td>0.0</td>\n",
       "      <td>0.0</td>\n",
       "      <td>1.0</td>\n",
       "    </tr>\n",
       "    <tr>\n",
       "      <th>1</th>\n",
       "      <td>18</td>\n",
       "      <td>1</td>\n",
       "      <td>33.8</td>\n",
       "      <td>1</td>\n",
       "      <td>0</td>\n",
       "      <td>1725.55</td>\n",
       "      <td>0.0</td>\n",
       "      <td>0.0</td>\n",
       "      <td>1.0</td>\n",
       "      <td>0.0</td>\n",
       "    </tr>\n",
       "    <tr>\n",
       "      <th>2</th>\n",
       "      <td>28</td>\n",
       "      <td>1</td>\n",
       "      <td>33.0</td>\n",
       "      <td>3</td>\n",
       "      <td>0</td>\n",
       "      <td>4449.46</td>\n",
       "      <td>0.0</td>\n",
       "      <td>0.0</td>\n",
       "      <td>1.0</td>\n",
       "      <td>0.0</td>\n",
       "    </tr>\n",
       "    <tr>\n",
       "      <th>3</th>\n",
       "      <td>33</td>\n",
       "      <td>1</td>\n",
       "      <td>22.7</td>\n",
       "      <td>0</td>\n",
       "      <td>0</td>\n",
       "      <td>21984.47</td>\n",
       "      <td>0.0</td>\n",
       "      <td>1.0</td>\n",
       "      <td>0.0</td>\n",
       "      <td>0.0</td>\n",
       "    </tr>\n",
       "    <tr>\n",
       "      <th>4</th>\n",
       "      <td>32</td>\n",
       "      <td>1</td>\n",
       "      <td>28.9</td>\n",
       "      <td>0</td>\n",
       "      <td>0</td>\n",
       "      <td>3866.86</td>\n",
       "      <td>0.0</td>\n",
       "      <td>1.0</td>\n",
       "      <td>0.0</td>\n",
       "      <td>0.0</td>\n",
       "    </tr>\n",
       "  </tbody>\n",
       "</table>\n",
       "</div>"
      ],
      "text/plain": [
       "   age  sex   bmi  children  smoker  expenses  region_2  region_3  region_1  \\\n",
       "0   19    0  27.9         0       1  16884.92       0.0       0.0       0.0   \n",
       "1   18    1  33.8         1       0   1725.55       0.0       0.0       1.0   \n",
       "2   28    1  33.0         3       0   4449.46       0.0       0.0       1.0   \n",
       "3   33    1  22.7         0       0  21984.47       0.0       1.0       0.0   \n",
       "4   32    1  28.9         0       0   3866.86       0.0       1.0       0.0   \n",
       "\n",
       "   region_0  \n",
       "0       1.0  \n",
       "1       0.0  \n",
       "2       0.0  \n",
       "3       0.0  \n",
       "4       0.0  "
      ]
     },
     "execution_count": 11,
     "metadata": {},
     "output_type": "execute_result"
    }
   ],
   "source": [
    "from sklearn.preprocessing import OneHotEncoder\n",
    "\n",
    "onehotencoder = OneHotEncoder()\n",
    "part = onehotencoder.fit_transform(data['region'].values.reshape(-1,1)).toarray()\n",
    "\n",
    "values = dict(data[\"region\"].value_counts())\n",
    "\n",
    "for e , (val , _) in enumerate(values.items()):\n",
    "    data[\"region_\" + str(val)] = part[:,e]\n",
    "\n",
    "data = data.drop([\"region\"] , axis = 1)\n",
    "\n",
    "data.head()"
   ]
  },
  {
   "cell_type": "code",
   "execution_count": 12,
   "metadata": {
    "colab": {
     "base_uri": "https://localhost:8080/",
     "height": 312
    },
    "colab_type": "code",
    "executionInfo": {
     "elapsed": 2542,
     "status": "ok",
     "timestamp": 1594917125817,
     "user": {
      "displayName": "Abhilash Chintada",
      "photoUrl": "https://lh3.googleusercontent.com/a-/AOh14GhlwwwMJr16CgjmRFWk833xZEy2OfpaFZDIqM84=s64",
      "userId": "00311744807213723199"
     },
     "user_tz": -330
    },
    "id": "S6luuIcHoSr0",
    "outputId": "26ce3637-961f-40f9-d2d4-440149b80af8"
   },
   "outputs": [
    {
     "name": "stdout",
     "output_type": "stream",
     "text": [
      "<class 'pandas.core.frame.DataFrame'>\n",
      "RangeIndex: 1338 entries, 0 to 1337\n",
      "Data columns (total 10 columns):\n",
      " #   Column    Non-Null Count  Dtype  \n",
      "---  ------    --------------  -----  \n",
      " 0   age       1338 non-null   int64  \n",
      " 1   sex       1338 non-null   int32  \n",
      " 2   bmi       1338 non-null   float64\n",
      " 3   children  1338 non-null   int64  \n",
      " 4   smoker    1338 non-null   int32  \n",
      " 5   expenses  1338 non-null   float64\n",
      " 6   region_2  1338 non-null   float64\n",
      " 7   region_3  1338 non-null   float64\n",
      " 8   region_1  1338 non-null   float64\n",
      " 9   region_0  1338 non-null   float64\n",
      "dtypes: float64(6), int32(2), int64(2)\n",
      "memory usage: 94.2 KB\n"
     ]
    }
   ],
   "source": [
    "data.info()"
   ]
  },
  {
   "cell_type": "markdown",
   "metadata": {
    "colab_type": "text",
    "id": "YB-UpuHUwnFw"
   },
   "source": [
    "Handle Skewness in Predictive column"
   ]
  },
  {
   "cell_type": "code",
   "execution_count": 13,
   "metadata": {
    "colab": {},
    "colab_type": "code",
    "executionInfo": {
     "elapsed": 2529,
     "status": "ok",
     "timestamp": 1594917125818,
     "user": {
      "displayName": "Abhilash Chintada",
      "photoUrl": "https://lh3.googleusercontent.com/a-/AOh14GhlwwwMJr16CgjmRFWk833xZEy2OfpaFZDIqM84=s64",
      "userId": "00311744807213723199"
     },
     "user_tz": -330
    },
    "id": "1Fg-k6dv1jaJ"
   },
   "outputs": [],
   "source": [
    "Original_Y = data[\"expenses\"].values.copy()"
   ]
  },
  {
   "cell_type": "code",
   "execution_count": 14,
   "metadata": {
    "colab": {
     "base_uri": "https://localhost:8080/",
     "height": 35
    },
    "colab_type": "code",
    "executionInfo": {
     "elapsed": 2493,
     "status": "ok",
     "timestamp": 1594917125819,
     "user": {
      "displayName": "Abhilash Chintada",
      "photoUrl": "https://lh3.googleusercontent.com/a-/AOh14GhlwwwMJr16CgjmRFWk833xZEy2OfpaFZDIqM84=s64",
      "userId": "00311744807213723199"
     },
     "user_tz": -330
    },
    "id": "47gVsTW52Eh-",
    "outputId": "c5114b35-7c27-4eaa-da35-bad7b2a4318a"
   },
   "outputs": [
    {
     "data": {
      "text/plain": [
       "array([16884.92,  1725.55,  4449.46, ...,  1629.83,  2007.95, 29141.36])"
      ]
     },
     "execution_count": 14,
     "metadata": {},
     "output_type": "execute_result"
    }
   ],
   "source": [
    "Original_Y"
   ]
  },
  {
   "cell_type": "code",
   "execution_count": 15,
   "metadata": {
    "colab": {
     "base_uri": "https://localhost:8080/",
     "height": 283
    },
    "colab_type": "code",
    "executionInfo": {
     "elapsed": 3240,
     "status": "ok",
     "timestamp": 1594917126596,
     "user": {
      "displayName": "Abhilash Chintada",
      "photoUrl": "https://lh3.googleusercontent.com/a-/AOh14GhlwwwMJr16CgjmRFWk833xZEy2OfpaFZDIqM84=s64",
      "userId": "00311744807213723199"
     },
     "user_tz": -330
    },
    "id": "MhH2uZ4Kwrcn",
    "outputId": "9105d9dc-04fb-4170-a632-ca4e203265a0"
   },
   "outputs": [
    {
     "name": "stdout",
     "output_type": "stream",
     "text": [
      "Skewness in Column : Expenses  1.51587966289798\n"
     ]
    },
    {
     "data": {
      "image/png": "[encoded data removed]",
      "text/plain": [
       "<Figure size 640x480 with 1 Axes>"
      ]
     },
     "metadata": {},
     "output_type": "display_data"
    }
   ],
   "source": [
    "print(\"Skewness in Column : Expenses \" , data[\"expenses\"].skew())\n",
    "\n",
    "plt.hist(data[\"expenses\"])\n",
    "plt.show()"
   ]
  },
  {
   "cell_type": "code",
   "execution_count": 16,
   "metadata": {
    "colab": {
     "base_uri": "https://localhost:8080/",
     "height": 283
    },
    "colab_type": "code",
    "executionInfo": {
     "elapsed": 3212,
     "status": "ok",
     "timestamp": 1594917126598,
     "user": {
      "displayName": "Abhilash Chintada",
      "photoUrl": "https://lh3.googleusercontent.com/a-/AOh14GhlwwwMJr16CgjmRFWk833xZEy2OfpaFZDIqM84=s64",
      "userId": "00311744807213723199"
     },
     "user_tz": -330
    },
    "id": "UgXw4Bsoxeg7",
    "outputId": "cf2d294b-00b0-404f-d2bd-d6acf33293b3"
   },
   "outputs": [
    {
     "name": "stdout",
     "output_type": "stream",
     "text": [
      "Skewness in Column : Log Expenses  -0.0900974307762623\n"
     ]
    },
    {
     "data": {
      "image/png": "[encoded data removed]",
      "text/plain": [
       "<Figure size 640x480 with 1 Axes>"
      ]
     },
     "metadata": {},
     "output_type": "display_data"
    }
   ],
   "source": [
    "col_log = np.log(data[\"expenses\"])\n",
    "print(\"Skewness in Column : Log Expenses \" , col_log.skew())\n",
    "\n",
    "plt.hist(col_log)\n",
    "plt.show()"
   ]
  },
  {
   "cell_type": "code",
   "execution_count": 17,
   "metadata": {
    "colab": {
     "base_uri": "https://localhost:8080/",
     "height": 283
    },
    "colab_type": "code",
    "executionInfo": {
     "elapsed": 3189,
     "status": "ok",
     "timestamp": 1594917126599,
     "user": {
      "displayName": "Abhilash Chintada",
      "photoUrl": "https://lh3.googleusercontent.com/a-/AOh14GhlwwwMJr16CgjmRFWk833xZEy2OfpaFZDIqM84=s64",
      "userId": "00311744807213723199"
     },
     "user_tz": -330
    },
    "id": "Yo6bOuAhxp16",
    "outputId": "42a5bfcd-a9b4-47c9-cea7-e14a2bcc8deb"
   },
   "outputs": [
    {
     "name": "stdout",
     "output_type": "stream",
     "text": [
      "Skewness in Column : Sqrt Expenses  0.7958625295340573\n"
     ]
    },
    {
     "data": {
      "image/png": "[encoded data removed]",
      "text/plain": [
       "<Figure size 640x480 with 1 Axes>"
      ]
     },
     "metadata": {},
     "output_type": "display_data"
    }
   ],
   "source": [
    "col_sqrt = np.sqrt(data[\"expenses\"])\n",
    "\n",
    "print(\"Skewness in Column : Sqrt Expenses \" ,col_sqrt.skew())\n",
    "\n",
    "plt.hist(col_sqrt)\n",
    "plt.show()"
   ]
  },
  {
   "cell_type": "code",
   "execution_count": 18,
   "metadata": {
    "colab": {
     "base_uri": "https://localhost:8080/",
     "height": 283
    },
    "colab_type": "code",
    "executionInfo": {
     "elapsed": 3161,
     "status": "ok",
     "timestamp": 1594917126600,
     "user": {
      "displayName": "Abhilash Chintada",
      "photoUrl": "https://lh3.googleusercontent.com/a-/AOh14GhlwwwMJr16CgjmRFWk833xZEy2OfpaFZDIqM84=s64",
      "userId": "00311744807213723199"
     },
     "user_tz": -330
    },
    "id": "pKDFPGWWxutr",
    "outputId": "d4f6e3a2-ba9e-4e2b-f284-ad1ff54911ca"
   },
   "outputs": [
    {
     "name": "stdout",
     "output_type": "stream",
     "text": [
      "Skewness in Column : boxcox Expenses "
     ]
    },
    {
     "name": "stdout",
     "output_type": "stream",
     "text": [
      " -0.008734060791800051\n"
     ]
    },
    {
     "data": {
      "image/png": "[encoded data removed]",
      "text/plain": [
       "<Figure size 640x480 with 1 Axes>"
      ]
     },
     "metadata": {},
     "output_type": "display_data"
    }
   ],
   "source": [
    "from scipy import stats \n",
    "\n",
    "col_cox , lam = stats.boxcox(data[\"expenses\"])[0:2]\n",
    "print(\"Skewness in Column : boxcox Expenses \" ,pd.Series(col_cox).skew())\n",
    "\n",
    "plt.hist(col_cox)\n",
    "plt.show()"
   ]
  },
  {
   "cell_type": "code",
   "execution_count": 19,
   "metadata": {
    "colab": {},
    "colab_type": "code",
    "executionInfo": {
     "elapsed": 3146,
     "status": "ok",
     "timestamp": 1594917126601,
     "user": {
      "displayName": "Abhilash Chintada",
      "photoUrl": "https://lh3.googleusercontent.com/a-/AOh14GhlwwwMJr16CgjmRFWk833xZEy2OfpaFZDIqM84=s64",
      "userId": "00311744807213723199"
     },
     "user_tz": -330
    },
    "id": "dYiUul6lze2W"
   },
   "outputs": [],
   "source": [
    "data[\"expenses\"] = col_cox"
   ]
  },
  {
   "cell_type": "markdown",
   "metadata": {
    "colab_type": "text",
    "id": "v-GRmEnrpLwa"
   },
   "source": [
    "Make Features and Targets"
   ]
  },
  {
   "cell_type": "code",
   "execution_count": 20,
   "metadata": {
    "colab": {},
    "colab_type": "code",
    "executionInfo": {
     "elapsed": 3142,
     "status": "ok",
     "timestamp": 1594917126603,
     "user": {
      "displayName": "Abhilash Chintada",
      "photoUrl": "https://lh3.googleusercontent.com/a-/AOh14GhlwwwMJr16CgjmRFWk833xZEy2OfpaFZDIqM84=s64",
      "userId": "00311744807213723199"
     },
     "user_tz": -330
    },
    "id": "VwsmZfDdo2-w"
   },
   "outputs": [],
   "source": [
    "remaining_columns = list(data.columns)\n",
    "remaining_columns.remove(\"expenses\")"
   ]
  },
  {
   "cell_type": "code",
   "execution_count": 21,
   "metadata": {
    "colab": {},
    "colab_type": "code",
    "executionInfo": {
     "elapsed": 3634,
     "status": "ok",
     "timestamp": 1594917127107,
     "user": {
      "displayName": "Abhilash Chintada",
      "photoUrl": "https://lh3.googleusercontent.com/a-/AOh14GhlwwwMJr16CgjmRFWk833xZEy2OfpaFZDIqM84=s64",
      "userId": "00311744807213723199"
     },
     "user_tz": -330
    },
    "id": "1BFQwbYeiKyu"
   },
   "outputs": [],
   "source": [
    "X = data[remaining_columns].values \n",
    "Y = data['expenses'].values"
   ]
  },
  {
   "cell_type": "code",
   "execution_count": 22,
   "metadata": {
    "colab": {},
    "colab_type": "code",
    "executionInfo": {
     "elapsed": 3624,
     "status": "ok",
     "timestamp": 1594917127113,
     "user": {
      "displayName": "Abhilash Chintada",
      "photoUrl": "https://lh3.googleusercontent.com/a-/AOh14GhlwwwMJr16CgjmRFWk833xZEy2OfpaFZDIqM84=s64",
      "userId": "00311744807213723199"
     },
     "user_tz": -330
    },
    "id": "su-Y1Gd9hh_Q"
   },
   "outputs": [],
   "source": [
    "from sklearn.model_selection import train_test_split \n",
    "\n",
    "Xtrain , Xtest , Ytrain , Ytest = train_test_split(X , Y , test_size = 0.2 , random_state = 4)"
   ]
  },
  {
   "cell_type": "code",
   "execution_count": 23,
   "metadata": {
    "colab": {},
    "colab_type": "code",
    "executionInfo": {
     "elapsed": 3616,
     "status": "ok",
     "timestamp": 1594917127117,
     "user": {
      "displayName": "Abhilash Chintada",
      "photoUrl": "https://lh3.googleusercontent.com/a-/AOh14GhlwwwMJr16CgjmRFWk833xZEy2OfpaFZDIqM84=s64",
      "userId": "00311744807213723199"
     },
     "user_tz": -330
    },
    "id": "doGMcX-FUA9Z"
   },
   "outputs": [],
   "source": [
    "from sklearn.preprocessing import StandardScaler\n",
    "\n",
    "Scaler = StandardScaler()\n",
    "Xtrain = Scaler.fit_transform(Xtrain)\n",
    "Xtest = Scaler.transform(Xtest)"
   ]
  },
  {
   "cell_type": "code",
   "execution_count": 24,
   "metadata": {
    "colab": {
     "base_uri": "https://localhost:8080/",
     "height": 35
    },
    "colab_type": "code",
    "executionInfo": {
     "elapsed": 3585,
     "status": "ok",
     "timestamp": 1594917127120,
     "user": {
      "displayName": "Abhilash Chintada",
      "photoUrl": "https://lh3.googleusercontent.com/a-/AOh14GhlwwwMJr16CgjmRFWk833xZEy2OfpaFZDIqM84=s64",
      "userId": "00311744807213723199"
     },
     "user_tz": -330
    },
    "id": "k0kdPJLrihdY",
    "outputId": "b7e3bec2-92fb-4776-ecf3-6343759a67bd"
   },
   "outputs": [
    {
     "data": {
      "text/plain": [
       "((1070, 9), (268, 9))"
      ]
     },
     "execution_count": 24,
     "metadata": {},
     "output_type": "execute_result"
    }
   ],
   "source": [
    "Xtrain.shape , Xtest.shape"
   ]
  },
  {
   "cell_type": "code",
   "execution_count": 25,
   "metadata": {
    "colab": {
     "base_uri": "https://localhost:8080/",
     "height": 287
    },
    "colab_type": "code",
    "executionInfo": {
     "elapsed": 3551,
     "status": "ok",
     "timestamp": 1594917127122,
     "user": {
      "displayName": "Abhilash Chintada",
      "photoUrl": "https://lh3.googleusercontent.com/a-/AOh14GhlwwwMJr16CgjmRFWk833xZEy2OfpaFZDIqM84=s64",
      "userId": "00311744807213723199"
     },
     "user_tz": -330
    },
    "id": "y7JUW_ARlfE7",
    "outputId": "11ad2d3d-d79b-4085-8231-57888ba621ea"
   },
   "outputs": [
    {
     "data": {
      "text/plain": [
       "[<matplotlib.lines.Line2D at 0x2971338e110>]"
      ]
     },
     "execution_count": 25,
     "metadata": {},
     "output_type": "execute_result"
    },
    {
     "data": {
      "image/png": "[encoded data removed]",
      "text/plain": [
       "<Figure size 640x480 with 1 Axes>"
      ]
     },
     "metadata": {},
     "output_type": "display_data"
    }
   ],
   "source": [
    "# check whether data is standardized or not \n",
    "# mean should be 1 \n",
    "\n",
    "plt.ylim(-1,1)\n",
    "\n",
    "means = []\n",
    "for i in range(X.shape[1]):\n",
    "    means.append(np.mean(Xtest[:,i]))\n",
    "plt.plot(means , scaley=False)"
   ]
  },
  {
   "cell_type": "code",
   "execution_count": 26,
   "metadata": {
    "colab": {
     "base_uri": "https://localhost:8080/",
     "height": 287
    },
    "colab_type": "code",
    "executionInfo": {
     "elapsed": 3516,
     "status": "ok",
     "timestamp": 1594917127123,
     "user": {
      "displayName": "Abhilash Chintada",
      "photoUrl": "https://lh3.googleusercontent.com/a-/AOh14GhlwwwMJr16CgjmRFWk833xZEy2OfpaFZDIqM84=s64",
      "userId": "00311744807213723199"
     },
     "user_tz": -330
    },
    "id": "hsmfuzN8lxh5",
    "outputId": "4bb5046d-a240-4275-a241-96d04d1335f2"
   },
   "outputs": [
    {
     "data": {
      "text/plain": [
       "[<matplotlib.lines.Line2D at 0x29713396210>]"
      ]
     },
     "execution_count": 26,
     "metadata": {},
     "output_type": "execute_result"
    },
    {
     "data": {
      "image/png": "[encoded data removed]",
      "text/plain": [
       "<Figure size 640x480 with 1 Axes>"
      ]
     },
     "metadata": {},
     "output_type": "display_data"
    }
   ],
   "source": [
    "# Check variances \n",
    "\n",
    "plt.ylim(0,2)\n",
    "\n",
    "vars = []\n",
    "for i in range(X.shape[1]):\n",
    "    vars.append(np.var(Xtest[:,i]))\n",
    "plt.plot(vars)"
   ]
  },
  {
   "cell_type": "code",
   "execution_count": 27,
   "metadata": {
    "colab": {
     "base_uri": "https://localhost:8080/",
     "height": 283
    },
    "colab_type": "code",
    "executionInfo": {
     "elapsed": 4001,
     "status": "ok",
     "timestamp": 1594917127651,
     "user": {
      "displayName": "Abhilash Chintada",
      "photoUrl": "https://lh3.googleusercontent.com/a-/AOh14GhlwwwMJr16CgjmRFWk833xZEy2OfpaFZDIqM84=s64",
      "userId": "00311744807213723199"
     },
     "user_tz": -330
    },
    "id": "sJ6YlDX2lPa2",
    "outputId": "70d70762-f62e-42b1-ad29-7b87a4e78623"
   },
   "outputs": [
    {
     "data": {
      "text/plain": [
       "[<matplotlib.lines.Line2D at 0x29713dd94d0>]"
      ]
     },
     "execution_count": 27,
     "metadata": {},
     "output_type": "execute_result"
    },
    {
     "data": {
      "image/png": "[encoded data removed]",
      "text/plain": [
       "<Figure size 640x480 with 1 Axes>"
      ]
     },
     "metadata": {},
     "output_type": "display_data"
    }
   ],
   "source": [
    "from sklearn.linear_model import LinearRegression\n",
    "from sklearn.decomposition import PCA\n",
    "\n",
    "pca = PCA(n_components = 7)\n",
    "Xtrain = pca.fit_transform(Xtrain)\n",
    "Xtest = pca.transform(Xtest)\n",
    " \n",
    "plt.plot(pca.explained_variance_ratio_.cumsum())"
   ]
  },
  {
   "cell_type": "code",
   "execution_count": 28,
   "metadata": {
    "colab": {
     "base_uri": "https://localhost:8080/",
     "height": 35
    },
    "colab_type": "code",
    "executionInfo": {
     "elapsed": 3974,
     "status": "ok",
     "timestamp": 1594917127652,
     "user": {
      "displayName": "Abhilash Chintada",
      "photoUrl": "https://lh3.googleusercontent.com/a-/AOh14GhlwwwMJr16CgjmRFWk833xZEy2OfpaFZDIqM84=s64",
      "userId": "00311744807213723199"
     },
     "user_tz": -330
    },
    "id": "M5JH-MbdikKJ",
    "outputId": "6463b65b-780e-410f-c048-9f4dacf943bc"
   },
   "outputs": [
    {
     "data": {
      "text/html": [
       "<style>#sk-container-id-1 {\n",
       "  /* Definition of color scheme common for light and dark mode */\n",
       "  --sklearn-color-text: black;\n",
       "  --sklearn-color-line: gray;\n",
       "  /* Definition of color scheme for unfitted estimators */\n",
       "  --sklearn-color-unfitted-level-0: #fff5e6;\n",
       "  --sklearn-color-unfitted-level-1: #f6e4d2;\n",
       "  --sklearn-color-unfitted-level-2: #ffe0b3;\n",
       "  --sklearn-color-unfitted-level-3: chocolate;\n",
       "  /* Definition of color scheme for fitted estimators */\n",
       "  --sklearn-color-fitted-level-0: #f0f8ff;\n",
       "  --sklearn-color-fitted-level-1: #d4ebff;\n",
       "  --sklearn-color-fitted-level-2: #b3dbfd;\n",
       "  --sklearn-color-fitted-level-3: cornflowerblue;\n",
       "\n",
       "  /* Specific color for light theme */\n",
       "  --sklearn-color-text-on-default-background: var(--sg-text-color, var(--theme-code-foreground, var(--jp-content-font-color1, black)));\n",
       "  --sklearn-color-background: var(--sg-background-color, var(--theme-background, var(--jp-layout-color0, white)));\n",
       "  --sklearn-color-border-box: var(--sg-text-color, var(--theme-code-foreground, var(--jp-content-font-color1, black)));\n",
       "  --sklearn-color-icon: #696969;\n",
       "\n",
       "  @media (prefers-color-scheme: dark) {\n",
       "    /* Redefinition of color scheme for dark theme */\n",
       "    --sklearn-color-text-on-default-background: var(--sg-text-color, var(--theme-code-foreground, var(--jp-content-font-color1, white)));\n",
       "    --sklearn-color-background: var(--sg-background-color, var(--theme-background, var(--jp-layout-color0, #111)));\n",
       "    --sklearn-color-border-box: var(--sg-text-color, var(--theme-code-foreground, var(--jp-content-font-color1, white)));\n",
       "    --sklearn-color-icon: #878787;\n",
       "  }\n",
       "}\n",
       "\n",
       "#sk-container-id-1 {\n",
       "  color: var(--sklearn-color-text);\n",
       "}\n",
       "\n",
       "#sk-container-id-1 pre {\n",
       "  padding: 0;\n",
       "}\n",
       "\n",
       "#sk-container-id-1 input.sk-hidden--visually {\n",
       "  border: 0;\n",
       "  clip: rect(1px 1px 1px 1px);\n",
       "  clip: rect(1px, 1px, 1px, 1px);\n",
       "  height: 1px;\n",
       "  margin: -1px;\n",
       "  overflow: hidden;\n",
       "  padding: 0;\n",
       "  position: absolute;\n",
       "  width: 1px;\n",
       "}\n",
       "\n",
       "#sk-container-id-1 div.sk-dashed-wrapped {\n",
       "  border: 1px dashed var(--sklearn-color-line);\n",
       "  margin: 0 0.4em 0.5em 0.4em;\n",
       "  box-sizing: border-box;\n",
       "  padding-bottom: 0.4em;\n",
       "  background-color: var(--sklearn-color-background);\n",
       "}\n",
       "\n",
       "#sk-container-id-1 div.sk-container {\n",
       "  /* jupyter's `normalize.less` sets `[hidden] { display: none; }`\n",
       "     but bootstrap.min.css set `[hidden] { display: none !important; }`\n",
       "     so we also need the `!important` here to be able to override the\n",
       "     default hidden behavior on the sphinx rendered scikit-learn.org.\n",
       "     See: https://github.com/scikit-learn/scikit-learn/issues/21755 */\n",
       "  display: inline-block !important;\n",
       "  position: relative;\n",
       "}\n",
       "\n",
       "#sk-container-id-1 div.sk-text-repr-fallback {\n",
       "  display: none;\n",
       "}\n",
       "\n",
       "div.sk-parallel-item,\n",
       "div.sk-serial,\n",
       "div.sk-item {\n",
       "  /* draw centered vertical line to link estimators */\n",
       "  background-image: linear-gradient(var(--sklearn-color-text-on-default-background), var(--sklearn-color-text-on-default-background));\n",
       "  background-size: 2px 100%;\n",
       "  background-repeat: no-repeat;\n",
       "  background-position: center center;\n",
       "}\n",
       "\n",
       "/* Parallel-specific style estimator block */\n",
       "\n",
       "#sk-container-id-1 div.sk-parallel-item::after {\n",
       "  content: \"\";\n",
       "  width: 100%;\n",
       "  border-bottom: 2px solid var(--sklearn-color-text-on-default-background);\n",
       "  flex-grow: 1;\n",
       "}\n",
       "\n",
       "#sk-container-id-1 div.sk-parallel {\n",
       "  display: flex;\n",
       "  align-items: stretch;\n",
       "  justify-content: center;\n",
       "  background-color: var(--sklearn-color-background);\n",
       "  position: relative;\n",
       "}\n",
       "\n",
       "#sk-container-id-1 div.sk-parallel-item {\n",
       "  display: flex;\n",
       "  flex-direction: column;\n",
       "}\n",
       "\n",
       "#sk-container-id-1 div.sk-parallel-item:first-child::after {\n",
       "  align-self: flex-end;\n",
       "  width: 50%;\n",
       "}\n",
       "\n",
       "#sk-container-id-1 div.sk-parallel-item:last-child::after {\n",
       "  align-self: flex-start;\n",
       "  width: 50%;\n",
       "}\n",
       "\n",
       "#sk-container-id-1 div.sk-parallel-item:only-child::after {\n",
       "  width: 0;\n",
       "}\n",
       "\n",
       "/* Serial-specific style estimator block */\n",
       "\n",
       "#sk-container-id-1 div.sk-serial {\n",
       "  display: flex;\n",
       "  flex-direction: column;\n",
       "  align-items: center;\n",
       "  background-color: var(--sklearn-color-background);\n",
       "  padding-right: 1em;\n",
       "  padding-left: 1em;\n",
       "}\n",
       "\n",
       "\n",
       "/* Toggleable style: style used for estimator/Pipeline/ColumnTransformer box that is\n",
       "clickable and can be expanded/collapsed.\n",
       "- Pipeline and ColumnTransformer use this feature and define the default style\n",
       "- Estimators will overwrite some part of the style using the `sk-estimator` class\n",
       "*/\n",
       "\n",
       "/* Pipeline and ColumnTransformer style (default) */\n",
       "\n",
       "#sk-container-id-1 div.sk-toggleable {\n",
       "  /* Default theme specific background. It is overwritten whether we have a\n",
       "  specific estimator or a Pipeline/ColumnTransformer */\n",
       "  background-color: var(--sklearn-color-background);\n",
       "}\n",
       "\n",
       "/* Toggleable label */\n",
       "#sk-container-id-1 label.sk-toggleable__label {\n",
       "  cursor: pointer;\n",
       "  display: block;\n",
       "  width: 100%;\n",
       "  margin-bottom: 0;\n",
       "  padding: 0.5em;\n",
       "  box-sizing: border-box;\n",
       "  text-align: center;\n",
       "}\n",
       "\n",
       "#sk-container-id-1 label.sk-toggleable__label-arrow:before {\n",
       "  /* Arrow on the left of the label */\n",
       "  content: \"▸\";\n",
       "  float: left;\n",
       "  margin-right: 0.25em;\n",
       "  color: var(--sklearn-color-icon);\n",
       "}\n",
       "\n",
       "#sk-container-id-1 label.sk-toggleable__label-arrow:hover:before {\n",
       "  color: var(--sklearn-color-text);\n",
       "}\n",
       "\n",
       "/* Toggleable content - dropdown */\n",
       "\n",
       "#sk-container-id-1 div.sk-toggleable__content {\n",
       "  max-height: 0;\n",
       "  max-width: 0;\n",
       "  overflow: hidden;\n",
       "  text-align: left;\n",
       "  /* unfitted */\n",
       "  background-color: var(--sklearn-color-unfitted-level-0);\n",
       "}\n",
       "\n",
       "#sk-container-id-1 div.sk-toggleable__content.fitted {\n",
       "  /* fitted */\n",
       "  background-color: var(--sklearn-color-fitted-level-0);\n",
       "}\n",
       "\n",
       "#sk-container-id-1 div.sk-toggleable__content pre {\n",
       "  margin: 0.2em;\n",
       "  border-radius: 0.25em;\n",
       "  color: var(--sklearn-color-text);\n",
       "  /* unfitted */\n",
       "  background-color: var(--sklearn-color-unfitted-level-0);\n",
       "}\n",
       "\n",
       "#sk-container-id-1 div.sk-toggleable__content.fitted pre {\n",
       "  /* unfitted */\n",
       "  background-color: var(--sklearn-color-fitted-level-0);\n",
       "}\n",
       "\n",
       "#sk-container-id-1 input.sk-toggleable__control:checked~div.sk-toggleable__content {\n",
       "  /* Expand drop-down */\n",
       "  max-height: 200px;\n",
       "  max-width: 100%;\n",
       "  overflow: auto;\n",
       "}\n",
       "\n",
       "#sk-container-id-1 input.sk-toggleable__control:checked~label.sk-toggleable__label-arrow:before {\n",
       "  content: \"▾\";\n",
       "}\n",
       "\n",
       "/* Pipeline/ColumnTransformer-specific style */\n",
       "\n",
       "#sk-container-id-1 div.sk-label input.sk-toggleable__control:checked~label.sk-toggleable__label {\n",
       "  color: var(--sklearn-color-text);\n",
       "  background-color: var(--sklearn-color-unfitted-level-2);\n",
       "}\n",
       "\n",
       "#sk-container-id-1 div.sk-label.fitted input.sk-toggleable__control:checked~label.sk-toggleable__label {\n",
       "  background-color: var(--sklearn-color-fitted-level-2);\n",
       "}\n",
       "\n",
       "/* Estimator-specific style */\n",
       "\n",
       "/* Colorize estimator box */\n",
       "#sk-container-id-1 div.sk-estimator input.sk-toggleable__control:checked~label.sk-toggleable__label {\n",
       "  /* unfitted */\n",
       "  background-color: var(--sklearn-color-unfitted-level-2);\n",
       "}\n",
       "\n",
       "#sk-container-id-1 div.sk-estimator.fitted input.sk-toggleable__control:checked~label.sk-toggleable__label {\n",
       "  /* fitted */\n",
       "  background-color: var(--sklearn-color-fitted-level-2);\n",
       "}\n",
       "\n",
       "#sk-container-id-1 div.sk-label label.sk-toggleable__label,\n",
       "#sk-container-id-1 div.sk-label label {\n",
       "  /* The background is the default theme color */\n",
       "  color: var(--sklearn-color-text-on-default-background);\n",
       "}\n",
       "\n",
       "/* On hover, darken the color of the background */\n",
       "#sk-container-id-1 div.sk-label:hover label.sk-toggleable__label {\n",
       "  color: var(--sklearn-color-text);\n",
       "  background-color: var(--sklearn-color-unfitted-level-2);\n",
       "}\n",
       "\n",
       "/* Label box, darken color on hover, fitted */\n",
       "#sk-container-id-1 div.sk-label.fitted:hover label.sk-toggleable__label.fitted {\n",
       "  color: var(--sklearn-color-text);\n",
       "  background-color: var(--sklearn-color-fitted-level-2);\n",
       "}\n",
       "\n",
       "/* Estimator label */\n",
       "\n",
       "#sk-container-id-1 div.sk-label label {\n",
       "  font-family: monospace;\n",
       "  font-weight: bold;\n",
       "  display: inline-block;\n",
       "  line-height: 1.2em;\n",
       "}\n",
       "\n",
       "#sk-container-id-1 div.sk-label-container {\n",
       "  text-align: center;\n",
       "}\n",
       "\n",
       "/* Estimator-specific */\n",
       "#sk-container-id-1 div.sk-estimator {\n",
       "  font-family: monospace;\n",
       "  border: 1px dotted var(--sklearn-color-border-box);\n",
       "  border-radius: 0.25em;\n",
       "  box-sizing: border-box;\n",
       "  margin-bottom: 0.5em;\n",
       "  /* unfitted */\n",
       "  background-color: var(--sklearn-color-unfitted-level-0);\n",
       "}\n",
       "\n",
       "#sk-container-id-1 div.sk-estimator.fitted {\n",
       "  /* fitted */\n",
       "  background-color: var(--sklearn-color-fitted-level-0);\n",
       "}\n",
       "\n",
       "/* on hover */\n",
       "#sk-container-id-1 div.sk-estimator:hover {\n",
       "  /* unfitted */\n",
       "  background-color: var(--sklearn-color-unfitted-level-2);\n",
       "}\n",
       "\n",
       "#sk-container-id-1 div.sk-estimator.fitted:hover {\n",
       "  /* fitted */\n",
       "  background-color: var(--sklearn-color-fitted-level-2);\n",
       "}\n",
       "\n",
       "/* Specification for estimator info (e.g. \"i\" and \"?\") */\n",
       "\n",
       "/* Common style for \"i\" and \"?\" */\n",
       "\n",
       ".sk-estimator-doc-link,\n",
       "a:link.sk-estimator-doc-link,\n",
       "a:visited.sk-estimator-doc-link {\n",
       "  float: right;\n",
       "  font-size: smaller;\n",
       "  line-height: 1em;\n",
       "  font-family: monospace;\n",
       "  background-color: var(--sklearn-color-background);\n",
       "  border-radius: 1em;\n",
       "  height: 1em;\n",
       "  width: 1em;\n",
       "  text-decoration: none !important;\n",
       "  margin-left: 1ex;\n",
       "  /* unfitted */\n",
       "  border: var(--sklearn-color-unfitted-level-1) 1pt solid;\n",
       "  color: var(--sklearn-color-unfitted-level-1);\n",
       "}\n",
       "\n",
       ".sk-estimator-doc-link.fitted,\n",
       "a:link.sk-estimator-doc-link.fitted,\n",
       "a:visited.sk-estimator-doc-link.fitted {\n",
       "  /* fitted */\n",
       "  border: var(--sklearn-color-fitted-level-1) 1pt solid;\n",
       "  color: var(--sklearn-color-fitted-level-1);\n",
       "}\n",
       "\n",
       "/* On hover */\n",
       "div.sk-estimator:hover .sk-estimator-doc-link:hover,\n",
       ".sk-estimator-doc-link:hover,\n",
       "div.sk-label-container:hover .sk-estimator-doc-link:hover,\n",
       ".sk-estimator-doc-link:hover {\n",
       "  /* unfitted */\n",
       "  background-color: var(--sklearn-color-unfitted-level-3);\n",
       "  color: var(--sklearn-color-background);\n",
       "  text-decoration: none;\n",
       "}\n",
       "\n",
       "div.sk-estimator.fitted:hover .sk-estimator-doc-link.fitted:hover,\n",
       ".sk-estimator-doc-link.fitted:hover,\n",
       "div.sk-label-container:hover .sk-estimator-doc-link.fitted:hover,\n",
       ".sk-estimator-doc-link.fitted:hover {\n",
       "  /* fitted */\n",
       "  background-color: var(--sklearn-color-fitted-level-3);\n",
       "  color: var(--sklearn-color-background);\n",
       "  text-decoration: none;\n",
       "}\n",
       "\n",
       "/* Span, style for the box shown on hovering the info icon */\n",
       ".sk-estimator-doc-link span {\n",
       "  display: none;\n",
       "  z-index: 9999;\n",
       "  position: relative;\n",
       "  font-weight: normal;\n",
       "  right: .2ex;\n",
       "  padding: .5ex;\n",
       "  margin: .5ex;\n",
       "  width: min-content;\n",
       "  min-width: 20ex;\n",
       "  max-width: 50ex;\n",
       "  color: var(--sklearn-color-text);\n",
       "  box-shadow: 2pt 2pt 4pt #999;\n",
       "  /* unfitted */\n",
       "  background: var(--sklearn-color-unfitted-level-0);\n",
       "  border: .5pt solid var(--sklearn-color-unfitted-level-3);\n",
       "}\n",
       "\n",
       ".sk-estimator-doc-link.fitted span {\n",
       "  /* fitted */\n",
       "  background: var(--sklearn-color-fitted-level-0);\n",
       "  border: var(--sklearn-color-fitted-level-3);\n",
       "}\n",
       "\n",
       ".sk-estimator-doc-link:hover span {\n",
       "  display: block;\n",
       "}\n",
       "\n",
       "/* \"?\"-specific style due to the `<a>` HTML tag */\n",
       "\n",
       "#sk-container-id-1 a.estimator_doc_link {\n",
       "  float: right;\n",
       "  font-size: 1rem;\n",
       "  line-height: 1em;\n",
       "  font-family: monospace;\n",
       "  background-color: var(--sklearn-color-background);\n",
       "  border-radius: 1rem;\n",
       "  height: 1rem;\n",
       "  width: 1rem;\n",
       "  text-decoration: none;\n",
       "  /* unfitted */\n",
       "  color: var(--sklearn-color-unfitted-level-1);\n",
       "  border: var(--sklearn-color-unfitted-level-1) 1pt solid;\n",
       "}\n",
       "\n",
       "#sk-container-id-1 a.estimator_doc_link.fitted {\n",
       "  /* fitted */\n",
       "  border: var(--sklearn-color-fitted-level-1) 1pt solid;\n",
       "  color: var(--sklearn-color-fitted-level-1);\n",
       "}\n",
       "\n",
       "/* On hover */\n",
       "#sk-container-id-1 a.estimator_doc_link:hover {\n",
       "  /* unfitted */\n",
       "  background-color: var(--sklearn-color-unfitted-level-3);\n",
       "  color: var(--sklearn-color-background);\n",
       "  text-decoration: none;\n",
       "}\n",
       "\n",
       "#sk-container-id-1 a.estimator_doc_link.fitted:hover {\n",
       "  /* fitted */\n",
       "  background-color: var(--sklearn-color-fitted-level-3);\n",
       "}\n",
       "</style><div id=\"sk-container-id-1\" class=\"sk-top-container\"><div class=\"sk-text-repr-fallback\"><pre>LinearRegression()</pre><b>In a Jupyter environment, please rerun this cell to show the HTML representation or trust the notebook. <br />On GitHub, the HTML representation is unable to render, please try loading this page with nbviewer.org.</b></div><div class=\"sk-container\" hidden><div class=\"sk-item\"><div class=\"sk-estimator fitted sk-toggleable\"><input class=\"sk-toggleable__control sk-hidden--visually\" id=\"sk-estimator-id-1\" type=\"checkbox\" checked><label for=\"sk-estimator-id-1\" class=\"sk-toggleable__label fitted sk-toggleable__label-arrow fitted\">&nbsp;&nbsp;LinearRegression<a class=\"sk-estimator-doc-link fitted\" rel=\"noreferrer\" target=\"_blank\" href=\"https://scikit-learn.org/1.4/modules/generated/sklearn.linear_model.LinearRegression.html\">?<span>Documentation for LinearRegression</span></a><span class=\"sk-estimator-doc-link fitted\">i<span>Fitted</span></span></label><div class=\"sk-toggleable__content fitted\"><pre>LinearRegression()</pre></div> </div></div></div></div>"
      ],
      "text/plain": [
       "LinearRegression()"
      ]
     },
     "execution_count": 28,
     "metadata": {},
     "output_type": "execute_result"
    }
   ],
   "source": [
    "model = LinearRegression()\n",
    "model.fit(Xtrain , Ytrain)"
   ]
  },
  {
   "cell_type": "code",
   "execution_count": 29,
   "metadata": {
    "colab": {
     "base_uri": "https://localhost:8080/",
     "height": 52
    },
    "colab_type": "code",
    "executionInfo": {
     "elapsed": 3944,
     "status": "ok",
     "timestamp": 1594917127653,
     "user": {
      "displayName": "Abhilash Chintada",
      "photoUrl": "https://lh3.googleusercontent.com/a-/AOh14GhlwwwMJr16CgjmRFWk833xZEy2OfpaFZDIqM84=s64",
      "userId": "00311744807213723199"
     },
     "user_tz": -330
    },
    "id": "goDL7V0jdUmC",
    "outputId": "40fb721f-51f2-4a8a-ccab-ac1787bf5007"
   },
   "outputs": [
    {
     "data": {
      "text/plain": [
       "array([ 0.17164153,  0.08197176,  0.02232378,  0.43355789,  0.54318206,\n",
       "       -0.29099124,  0.94352298])"
      ]
     },
     "execution_count": 29,
     "metadata": {},
     "output_type": "execute_result"
    }
   ],
   "source": [
    "model.coef_"
   ]
  },
  {
   "cell_type": "code",
   "execution_count": 30,
   "metadata": {
    "colab": {
     "base_uri": "https://localhost:8080/",
     "height": 35
    },
    "colab_type": "code",
    "executionInfo": {
     "elapsed": 3888,
     "status": "ok",
     "timestamp": 1594917127653,
     "user": {
      "displayName": "Abhilash Chintada",
      "photoUrl": "https://lh3.googleusercontent.com/a-/AOh14GhlwwwMJr16CgjmRFWk833xZEy2OfpaFZDIqM84=s64",
      "userId": "00311744807213723199"
     },
     "user_tz": -330
    },
    "id": "dsPde_y5dcxy",
    "outputId": "dfbb7106-5a4d-44f3-8139-e5fa814ce75e"
   },
   "outputs": [
    {
     "data": {
      "text/plain": [
       "11.221776295759472"
      ]
     },
     "execution_count": 30,
     "metadata": {},
     "output_type": "execute_result"
    }
   ],
   "source": [
    "model.intercept_"
   ]
  },
  {
   "cell_type": "code",
   "execution_count": 31,
   "metadata": {
    "colab": {
     "base_uri": "https://localhost:8080/",
     "height": 35
    },
    "colab_type": "code",
    "executionInfo": {
     "elapsed": 3845,
     "status": "ok",
     "timestamp": 1594917127654,
     "user": {
      "displayName": "Abhilash Chintada",
      "photoUrl": "https://lh3.googleusercontent.com/a-/AOh14GhlwwwMJr16CgjmRFWk833xZEy2OfpaFZDIqM84=s64",
      "userId": "00311744807213723199"
     },
     "user_tz": -330
    },
    "id": "RjUKSpgGdeG0",
    "outputId": "ccb2e468-e554-4283-fd45-646c09cefcc1"
   },
   "outputs": [
    {
     "data": {
      "text/plain": [
       "9.853713624085747"
      ]
     },
     "execution_count": 31,
     "metadata": {},
     "output_type": "execute_result"
    }
   ],
   "source": [
    "model.coef_.dot(Xtest[10,:]) + model.intercept_"
   ]
  },
  {
   "cell_type": "code",
   "execution_count": 32,
   "metadata": {
    "colab": {
     "base_uri": "https://localhost:8080/",
     "height": 35
    },
    "colab_type": "code",
    "executionInfo": {
     "elapsed": 3833,
     "status": "ok",
     "timestamp": 1594917127655,
     "user": {
      "displayName": "Abhilash Chintada",
      "photoUrl": "https://lh3.googleusercontent.com/a-/AOh14GhlwwwMJr16CgjmRFWk833xZEy2OfpaFZDIqM84=s64",
      "userId": "00311744807213723199"
     },
     "user_tz": -330
    },
    "id": "s51gPc4jdffw",
    "outputId": "d73d80b8-21ea-4a43-b4e0-1eb433bb0815"
   },
   "outputs": [
    {
     "data": {
      "text/plain": [
       "array([9.85371362])"
      ]
     },
     "execution_count": 32,
     "metadata": {},
     "output_type": "execute_result"
    }
   ],
   "source": [
    "model.predict(Xtest[10,:].reshape(1,-1))"
   ]
  },
  {
   "cell_type": "code",
   "execution_count": 33,
   "metadata": {
    "colab": {
     "base_uri": "https://localhost:8080/",
     "height": 35
    },
    "colab_type": "code",
    "executionInfo": {
     "elapsed": 3809,
     "status": "ok",
     "timestamp": 1594917127655,
     "user": {
      "displayName": "Abhilash Chintada",
      "photoUrl": "https://lh3.googleusercontent.com/a-/AOh14GhlwwwMJr16CgjmRFWk833xZEy2OfpaFZDIqM84=s64",
      "userId": "00311744807213723199"
     },
     "user_tz": -330
    },
    "id": "XhYFkjb_i0bQ",
    "outputId": "72289399-7bdd-4387-d1b1-05d554cdd166"
   },
   "outputs": [
    {
     "data": {
      "text/plain": [
       "0.7497119096930259"
      ]
     },
     "execution_count": 33,
     "metadata": {},
     "output_type": "execute_result"
    }
   ],
   "source": [
    "model.score(Xtest , Ytest)"
   ]
  },
  {
   "cell_type": "markdown",
   "metadata": {
    "colab_type": "text",
    "id": "V_AJtCeF2kKh"
   },
   "source": [
    "Can we Bring back the data ?"
   ]
  },
  {
   "cell_type": "code",
   "execution_count": 34,
   "metadata": {
    "colab": {},
    "colab_type": "code",
    "executionInfo": {
     "elapsed": 3804,
     "status": "ok",
     "timestamp": 1594917127656,
     "user": {
      "displayName": "Abhilash Chintada",
      "photoUrl": "https://lh3.googleusercontent.com/a-/AOh14GhlwwwMJr16CgjmRFWk833xZEy2OfpaFZDIqM84=s64",
      "userId": "00311744807213723199"
     },
     "user_tz": -330
    },
    "id": "aqo-8Yp1zwUS"
   },
   "outputs": [],
   "source": [
    "from scipy.special import inv_boxcox\n",
    "\n",
    "transformed_data = inv_boxcox(Y , lam)"
   ]
  },
  {
   "cell_type": "code",
   "execution_count": 35,
   "metadata": {
    "colab": {
     "base_uri": "https://localhost:8080/",
     "height": 52
    },
    "colab_type": "code",
    "executionInfo": {
     "elapsed": 3793,
     "status": "ok",
     "timestamp": 1594917127657,
     "user": {
      "displayName": "Abhilash Chintada",
      "photoUrl": "https://lh3.googleusercontent.com/a-/AOh14GhlwwwMJr16CgjmRFWk833xZEy2OfpaFZDIqM84=s64",
      "userId": "00311744807213723199"
     },
     "user_tz": -330
    },
    "id": "ugFajEvw01yb",
    "outputId": "27034a95-707f-4861-df51-69f93e8d09c8"
   },
   "outputs": [
    {
     "data": {
      "text/plain": [
       "array([16884.92,  1725.55,  4449.46, 21984.47,  3866.86,  3756.62,\n",
       "        8240.59,  7281.51,  6406.41, 28923.14])"
      ]
     },
     "execution_count": 35,
     "metadata": {},
     "output_type": "execute_result"
    }
   ],
   "source": [
    "transformed_data[:10]"
   ]
  },
  {
   "cell_type": "code",
   "execution_count": 36,
   "metadata": {
    "colab": {
     "base_uri": "https://localhost:8080/",
     "height": 52
    },
    "colab_type": "code",
    "executionInfo": {
     "elapsed": 3784,
     "status": "ok",
     "timestamp": 1594917127659,
     "user": {
      "displayName": "Abhilash Chintada",
      "photoUrl": "https://lh3.googleusercontent.com/a-/AOh14GhlwwwMJr16CgjmRFWk833xZEy2OfpaFZDIqM84=s64",
      "userId": "00311744807213723199"
     },
     "user_tz": -330
    },
    "id": "9jzGIaDv1S0r",
    "outputId": "0a27617f-5e0f-48e9-89db-b71140e02a62"
   },
   "outputs": [
    {
     "data": {
      "text/plain": [
       "array([16884.92,  1725.55,  4449.46, 21984.47,  3866.86,  3756.62,\n",
       "        8240.59,  7281.51,  6406.41, 28923.14])"
      ]
     },
     "execution_count": 36,
     "metadata": {},
     "output_type": "execute_result"
    }
   ],
   "source": [
    "Original_Y[:10]"
   ]
  }
 ],
 "metadata": {
  "colab": {
   "authorship_tag": "ABX9TyMk7xj9ltdUvJAJU+52ZjI1",
   "name": "3 . LinearRegression_DataTransformation.ipynb",
   "provenance": []
  },
  "kernelspec": {
   "display_name": "Python 3",
   "language": "python",
   "name": "python3"
  },
  "language_info": {
   "codemirror_mode": {
    "name": "ipython",
    "version": 3
   },
   "file_extension": ".py",
   "mimetype": "text/x-python",
   "name": "python",
   "nbconvert_exporter": "python",
   "pygments_lexer": "ipython3",
   "version": "3.11.4"
  }
 },
 "nbformat": 4,
 "nbformat_minor": 1
}
